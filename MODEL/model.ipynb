{
 "cells": [
  {
   "cell_type": "code",
   "execution_count": 12,
   "metadata": {},
   "outputs": [],
   "source": [
    "import pandas as pd\n",
    "from sklearn.model_selection import train_test_split\n",
    "from sklearn.preprocessing import StandardScaler\n",
    "from sklearn.model_selection import train_test_split\n",
    "from sklearn.neighbors import KNeighborsClassifier\n",
    "import pickle\n",
    "import numpy as np\n",
    "\n",
    "#fetching the data from csv\n",
    "df=pd.read_csv('dbts.csv')\n",
    "#drop unwanted data fields\n",
    "new = df.drop(columns=['Pregnancies','Age','SkinThickness'])\n",
    "\n",
    "X=new.drop(columns=['Outcome'])\n",
    "Y=new['Outcome']\n",
    "X.replace(to_replace=0,value=X.mean(),inplace=True)\n",
    "\n",
    "\n",
    "X_train , X_test , Y_train , Y_test = train_test_split(X,Y,test_size=0.25,random_state= 0)\n",
    "\n",
    "\n",
    "std=StandardScaler()\n",
    "\n",
    "X_train_std=std.fit_transform(X_train)\n",
    "X_test_std=std.transform(X_test)\n",
    "\n",
    "\n",
    "X_train_std,X_test,Y_train,Y_test=train_test_split(X,Y,random_state=0)\n",
    "knn=KNeighborsClassifier() \n",
    "knn.fit(X_train_std,Y_train)\n",
    "a = knn.score(X_test_std,Y_test) * 100\n",
    "#print('Accuracy is = ',a)\n",
    "predct = dict(zip(new.Outcome.unique(),new.Outcome.unique()))\n",
    "sample = np.array([[0, 2.9, 1, 78.50, 3.7]])\n",
    "knn.predict(sample)\n",
    "\n",
    "import pickle\n",
    "pickle.dump(knn, open('model.pkl', 'wb'))\n"
   ]
  }
 ],
 "metadata": {
  "kernelspec": {
   "display_name": "Python 3",
   "language": "python",
   "name": "python3"
  },
  "language_info": {
   "codemirror_mode": {
    "name": "ipython",
    "version": 3
   },
   "file_extension": ".py",
   "mimetype": "text/x-python",
   "name": "python",
   "nbconvert_exporter": "python",
   "pygments_lexer": "ipython3",
   "version": "3.8.5"
  }
 },
 "nbformat": 4,
 "nbformat_minor": 4
}
